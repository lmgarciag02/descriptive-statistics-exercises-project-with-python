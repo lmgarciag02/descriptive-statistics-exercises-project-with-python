{
    "cells": [
        {
            "cell_type": "markdown",
            "id": "ac622319",
            "metadata": {},
            "source": [
                "# Descriptive statistics problems"
            ]
        },
        {
            "cell_type": "markdown",
            "id": "5e0ab0d5",
            "metadata": {},
            "source": [
                "### Exercise 1\n",
                "\n",
                "We will use NumPy to obtain information to describe statistically.\n",
                "\n",
                "- Generate an array of 100 elements following a normal distribution.\n",
                "- Generate an array of 100 elements following a chi-square distribution with 3 degrees of freedom.\n",
                "- Calculate the main metrics and statistical measures that best describe the two vectors."
            ]
        },
        {
            "cell_type": "code",
            "execution_count": 4,
            "id": "34720ab6",
            "metadata": {},
            "outputs": [
                {
                    "name": "stdout",
                    "output_type": "stream",
                    "text": [
                        "Vector Normal: [ 0.49671415 -0.1382643   0.64768854  1.52302986 -0.23415337 -0.23413696\n",
                        "  1.57921282  0.76743473 -0.46947439  0.54256004 -0.46341769 -0.46572975\n",
                        "  0.24196227 -1.91328024 -1.72491783 -0.56228753 -1.01283112  0.31424733\n",
                        " -0.90802408 -1.4123037   1.46564877 -0.2257763   0.0675282  -1.42474819\n",
                        " -0.54438272  0.11092259 -1.15099358  0.37569802 -0.60063869 -0.29169375\n",
                        " -0.60170661  1.85227818 -0.01349722 -1.05771093  0.82254491 -1.22084365\n",
                        "  0.2088636  -1.95967012 -1.32818605  0.19686124  0.73846658  0.17136828\n",
                        " -0.11564828 -0.3011037  -1.47852199 -0.71984421 -0.46063877  1.05712223\n",
                        "  0.34361829 -1.76304016  0.32408397 -0.38508228 -0.676922    0.61167629\n",
                        "  1.03099952  0.93128012 -0.83921752 -0.30921238  0.33126343  0.97554513\n",
                        " -0.47917424 -0.18565898 -1.10633497 -1.19620662  0.81252582  1.35624003\n",
                        " -0.07201012  1.0035329   0.36163603 -0.64511975  0.36139561  1.53803657\n",
                        " -0.03582604  1.56464366 -2.6197451   0.8219025   0.08704707 -0.29900735\n",
                        "  0.09176078 -1.98756891 -0.21967189  0.35711257  1.47789404 -0.51827022\n",
                        " -0.8084936  -0.50175704  0.91540212  0.32875111 -0.5297602   0.51326743\n",
                        "  0.09707755  0.96864499 -0.70205309 -0.32766215 -0.39210815 -1.46351495\n",
                        "  0.29612028  0.26105527  0.00511346 -0.23458713]\n",
                        "Vector Chi-cuadrado: [ 0.4168513   1.53749288  2.0019707   3.31954478  2.93509884  2.17617828\n",
                        "  0.15830407  2.27652419  2.46587889 12.72456265  1.94196651  3.04725102\n",
                        "  5.77516859  4.36378602  6.86491387  0.42618426  0.78098785  1.3113313\n",
                        "  0.33084683  2.48460231  0.85740894  7.53845363  1.01734997  1.7044591\n",
                        "  4.56886089  0.55649438  0.29858042  2.75534614  2.9409741   4.4625349\n",
                        "  3.65222252  3.03548985  1.15103525  2.87187902  3.02542952  1.10535719\n",
                        "  9.13003056  3.51390358  0.79761542  4.48007115  5.09450961  3.3434575\n",
                        "  1.84236463  1.05445618  2.17070629  3.15061854  2.36153348  7.09243827\n",
                        "  3.96269904  0.92828493  0.70025868  3.53848141  1.8831237   4.24057767\n",
                        "  3.51221427  2.17951444  0.94044813  0.35233451  2.82705909  0.54422803\n",
                        "  0.89743356  2.68142092  2.4613509   0.63275656  5.54211583  5.43039306\n",
                        "  3.63214678  3.62852305  3.63218282  5.06050325  4.04232775  1.03035801\n",
                        "  1.85822454 11.7557897   0.17754328  1.45511551  5.56483363  1.10410752\n",
                        "  4.1308596   2.43317078  1.18979801  2.75974204  1.00588199  2.09414701\n",
                        "  3.60307013  4.7477682   1.450369    1.18741582  0.531925    4.9308192\n",
                        " 10.57550712  5.34984734  6.2796709   1.11415225  3.42940531  4.43865013\n",
                        "  0.74626305  0.13247338  0.50086102  2.0667793 ]\n"
                    ]
                }
            ],
            "source": [
                "import numpy as np\n",
                "\n",
                "# Establecer la semilla para la aleatoriedad\n",
                "np.random.seed(42)\n",
                "\n",
                "# Generar el vector normal\n",
                "vector_normal = np.random.normal(size=100)\n",
                "\n",
                "# Generar el vector chi-cuadrado\n",
                "vector_chi = np.random.chisquare(df=3, size=100)\n",
                "\n",
                "# Mostrar los resultados\n",
                "print(\"Vector Normal:\", vector_normal)\n",
                "print(\"Vector Chi-cuadrado:\", vector_chi)"
            ]
        },
        {
            "cell_type": "markdown",
            "id": "84a9aec1",
            "metadata": {},
            "source": [
                "**Medidas de tendencia central**"
            ]
        },
        {
            "cell_type": "code",
            "execution_count": 10,
            "id": "48a2f381",
            "metadata": {},
            "outputs": [
                {
                    "name": "stdout",
                    "output_type": "stream",
                    "text": [
                        "Media del vector normal: -0.10384651739409385\n",
                        "Media del vector chi-cuadrado: 2.9380795335328225\n"
                    ]
                }
            ],
            "source": [
                "#MEDIA\n",
                "import statistics as stats\n",
                "\n",
                "print(f\"Media del vector normal: {stats.mean(vector_normal)}\")\n",
                "print(f\"Media del vector chi-cuadrado: {stats.mean(vector_chi)}\")"
            ]
        },
        {
            "cell_type": "code",
            "execution_count": 11,
            "id": "810bf541",
            "metadata": {},
            "outputs": [
                {
                    "name": "stdout",
                    "output_type": "stream",
                    "text": [
                        "Mediana del vector normal: -0.1269562917797126\n",
                        "Mediana del vector chi-cuadrado: 2.4636148965577283\n"
                    ]
                }
            ],
            "source": [
                "#MEDIANA\n",
                "print(f\"Mediana del vector normal: {stats.median(vector_normal)}\")\n",
                "print(f\"Mediana del vector chi-cuadrado: {stats.median(vector_chi)}\")"
            ]
        },
        {
            "cell_type": "code",
            "execution_count": 12,
            "id": "97188d13",
            "metadata": {},
            "outputs": [
                {
                    "name": "stdout",
                    "output_type": "stream",
                    "text": [
                        "Moda del vector normal: 0.4967141530112327\n",
                        "Moda del vector chi-cuadrado: 0.4168513022813494\n"
                    ]
                }
            ],
            "source": [
                "#MODA\n",
                "print(f\"Moda del vector normal: {stats.mode(vector_normal)}\")\n",
                "print(f\"Moda del vector chi-cuadrado: {stats.mode(vector_chi)}\")"
            ]
        },
        {
            "cell_type": "code",
            "execution_count": 14,
            "id": "2e06fc04",
            "metadata": {},
            "outputs": [
                {
                    "name": "stdout",
                    "output_type": "stream",
                    "text": [
                        "Rango del vector normal: 4.472023288598682\n",
                        "Rango del vector chi-cuadrado: 12.592089274962756\n"
                    ]
                }
            ],
            "source": [
                "#RANGO\n",
                "range_normal = max(vector_normal) - min(vector_normal)\n",
                "range_chi = max(vector_chi) - min(vector_chi)\n",
                "print(f\"Rango del vector normal: {range_normal}\")\n",
                "print(f\"Rango del vector chi-cuadrado: {range_chi}\")"
            ]
        },
        {
            "cell_type": "code",
            "execution_count": 15,
            "id": "452558e9",
            "metadata": {},
            "outputs": [
                {
                    "name": "stdout",
                    "output_type": "stream",
                    "text": [
                        "Varianza del vector normal: 0.82476989363016 y std: 0.9081684280078007\n",
                        "Varianza del vector chi-cuadrado: 5.87576054587392 y std: 2.4239968122656266\n"
                    ]
                }
            ],
            "source": [
                "# Varianza y desviación estándar (std)\n",
                "var_normal = stats.variance(vector_normal)\n",
                "std_normal = stats.stdev(vector_normal)\n",
                "var_chi = stats.variance(vector_chi)\n",
                "std_chi = stats.stdev(vector_chi)\n",
                "\n",
                "print(f\"Varianza del vector normal: {var_normal} y std: {std_normal}\")\n",
                "print(f\"Varianza del vector chi-cuadrado: {var_chi} y std: {std_chi}\")"
            ]
        },
        {
            "cell_type": "markdown",
            "id": "7a0c0f2b",
            "metadata": {},
            "source": [
                "**Medidas de forma**"
            ]
        },
        {
            "cell_type": "code",
            "execution_count": 16,
            "id": "00c5be9e",
            "metadata": {},
            "outputs": [
                {
                    "name": "stdout",
                    "output_type": "stream",
                    "text": [
                        "Asimetría de la distribución normal: -0.17526772024433726\n",
                        "Asimetría de la distribución chi-cuadrado: 1.6683703423622345\n"
                    ]
                }
            ],
            "source": [
                "# Asimetría\n",
                "\n",
                "from scipy.stats import skew\n",
                "\n",
                "# Calculando la asimetría para la distribución normal y chi-cuadrado\n",
                "asimetria_normal = skew(vector_normal)\n",
                "asimetria_chi = skew(vector_chi)\n",
                "\n",
                "# Mostrando los resultados de la asimetría\n",
                "print(f\"Asimetría de la distribución normal: {asimetria_normal}\")\n",
                "print(f\"Asimetría de la distribución chi-cuadrado: {asimetria_chi}\")"
            ]
        },
        {
            "cell_type": "code",
            "execution_count": 18,
            "id": "0905c7eb",
            "metadata": {},
            "outputs": [
                {
                    "name": "stdout",
                    "output_type": "stream",
                    "text": [
                        "Curtosis de la distribución normal: -0.1554047077420817\n",
                        "Curtosis de la distribución chi-cuadrado: 3.620577909892315\n"
                    ]
                }
            ],
            "source": [
                "#Kurtosis\n",
                "from scipy.stats import kurtosis\n",
                "\n",
                "# Cálculo de la curtosis para las distribuciones\n",
                "curtosis_normal = kurtosis(vector_normal)\n",
                "curtosis_chi = kurtosis(vector_chi)\n",
                "\n",
                "# Mostrar los resultados\n",
                "print(f\"Curtosis de la distribución normal: {curtosis_normal}\")\n",
                "print(f\"Curtosis de la distribución chi-cuadrado: {curtosis_chi}\")"
            ]
        },
        {
            "cell_type": "markdown",
            "id": "46c70c3d",
            "metadata": {},
            "source": [
                "### Exercise 2\n",
                "\n",
                "Write a Python program to calculate the standard deviation of the following data:\n",
                "\n",
                "```py\n",
                "data = [4, 2, 5, 8, 6]\n",
                "```"
            ]
        },
        {
            "cell_type": "code",
            "execution_count": 19,
            "id": "d590308e",
            "metadata": {},
            "outputs": [
                {
                    "name": "stdout",
                    "output_type": "stream",
                    "text": [
                        "Sample Data: [4, 2, 5, 8, 6]\n",
                        "Standard Deviation: 2.23606797749979\n"
                    ]
                }
            ],
            "source": [
                "import math\n",
                "\n",
                "# Función para calcular la desviación estándar\n",
                "def sd_calc(data):\n",
                "    n = len(data)\n",
                "    if n <= 1:\n",
                "        return 0.0\n",
                "\n",
                "    mean = sum(data) / n\n",
                "    variance = sum((d - mean) ** 2 for d in data) / (n - 1)\n",
                "    return math.sqrt(variance)\n",
                "\n",
                "data = [4, 2, 5, 8, 6]\n",
                "print(f\"Sample Data: {data}\")\n",
                "print(f\"Standard Deviation: {sd_calc(data)}\")"
            ]
        }
    ],
    "metadata": {
        "kernelspec": {
            "display_name": "Python 3",
            "language": "python",
            "name": "python3"
        },
        "language_info": {
            "codemirror_mode": {
                "name": "ipython",
                "version": 3
            },
            "file_extension": ".py",
            "mimetype": "text/x-python",
            "name": "python",
            "nbconvert_exporter": "python",
            "pygments_lexer": "ipython3",
            "version": "3.11.4"
        }
    },
    "nbformat": 4,
    "nbformat_minor": 5
}
